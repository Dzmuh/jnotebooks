{
 "cells": [
  {
   "cell_type": "markdown",
   "metadata": {},
   "source": [
    "# Интерактивноть в скриптах PowerShell\n",
    "\n",
    "Для добавления интерактиности в скрипты удобно использовать метод `PromptForChoice` класса `PSHostUserInterface`.\n",
    "\n",
    "Используя объект `System.Management.Automation.Host.ChoiceDescription` создаём варианты в которые передаём по одному или по два строковых параметра. Первый параметр собственно вариант котрый с помощью символа `&` привязывается к символу который будет означать выбор, второй, необязательный параметр, будет использоваься как подсказка.\n",
    "\n",
    "В примре ниже создано три варианта выбора, которые были собраны в массив и переданы методу `PromptForChoice` класса `PSHostUserInterface`. Индекс массива начинается с нуля и число ноль пеедане `PromptForChoice` означает то, что эллемент с индексом ноль будет использоваться по умолчаню, в нашем случае это вариант `yes`."
   ]
  },
  {
   "cell_type": "code",
   "execution_count": 2,
   "metadata": {},
   "outputs": [
    {
     "name": "stdout",
     "output_type": "stream",
     "text": [
      "\n",
      "\u001b[95mСделайте выбор\u001b[0m\n",
      "Выберите один из доступных вариантов\n",
      "\u001b[93m[Y] yes  \u001b[0m\u001b[95m[N] no  \u001b[0m\u001b[95m[Q] quit  \u001b[0m[?] Help(default is 'Y')"
     ]
    },
    {
     "name": "stdin",
     "output_type": "stream",
     "text": [
      "Select:  \n"
     ]
    },
    {
     "name": "stdout",
     "output_type": "stream",
     "text": [
      "Был выбран вриант с индексом 0\n"
     ]
    }
   ],
   "source": [
    "$title   = \"Сделайте выбор\"\n",
    "$message = \"Выберите один из доступных вариантов\"\n",
    "$yes     = New-Object System.Management.Automation.Host.ChoiceDescription \"&yes\", \"yes?\"\n",
    "$no      = New-Object System.Management.Automation.Host.ChoiceDescription \"&no\", \"no?\"\n",
    "$quit    = New-Object System.Management.Automation.Host.ChoiceDescription \"&quit\", \"no decision at all?\"\n",
    "\n",
    "$options = [System.Management.Automation.Host.ChoiceDescription[]]($yes, $no, $quit)\n",
    "\n",
    "$input   = $host.ui.PromptForChoice($title, $message, $options, 0)\n",
    "\n",
    "Write-Host \"Был выбран вриант с индексом $input\""
   ]
  },
  {
   "cell_type": "markdown",
   "metadata": {},
   "source": [
    "Кстати, варианты можновынси в объект и использовать в скрипте повторно, меняя заголовок и сообщение:"
   ]
  },
  {
   "cell_type": "code",
   "execution_count": 3,
   "metadata": {},
   "outputs": [
    {
     "name": "stdout",
     "output_type": "stream",
     "text": [
      "\n",
      "\u001b[95mСделайте выбор\u001b[0m\n",
      "Выберите один из доступных вариантов\n",
      "\u001b[93m[Y] yes  \u001b[0m\u001b[95m[N] no  \u001b[0m\u001b[95m[Q] quit  \u001b[0m[?] Help(default is 'Y')"
     ]
    },
    {
     "name": "stdin",
     "output_type": "stream",
     "text": [
      "Select:  \n"
     ]
    },
    {
     "name": "stdout",
     "output_type": "stream",
     "text": [
      "Был выбран вриант с индексом 0\n",
      "\n",
      "\u001b[95mДругой заголовок\u001b[0m\n",
      "Обратите вниманиена то, что здесь по умолчанию испльзуется вариант с индексом 1 (no)\n",
      "\u001b[95m[Y] yes  \u001b[0m\u001b[93m[N] no  \u001b[0m\u001b[95m[Q] quit  \u001b[0m[?] Help(default is 'N')"
     ]
    },
    {
     "name": "stdin",
     "output_type": "stream",
     "text": [
      "Select:  \n"
     ]
    },
    {
     "name": "stdout",
     "output_type": "stream",
     "text": [
      "Был выбран вриант с индексом 1\n"
     ]
    }
   ],
   "source": [
    "$choice = New-Object  –TypeName PSCustomObject -Property @{\n",
    "    Title   = \"Сделайте выбор\";\n",
    "    Message = \"Выберите один из доступных вариантов\";\n",
    "    Yes     = New-Object System.Management.Automation.Host.ChoiceDescription \"&yes\", 'yes?';\n",
    "    No      = New-Object System.Management.Automation.Host.ChoiceDescription \"&no\", 'no?';\n",
    "    Quit    = New-Object System.Management.Automation.Host.ChoiceDescription \"&quit\", 'no decision at all?';\n",
    "}\n",
    "\n",
    "$options = [System.Management.Automation.Host.ChoiceDescription[]]($choice.Yes, $choice.No, $choice.Quit)\n",
    "\n",
    "$input   = $host.ui.PromptForChoice($choice.Title, $choice.Message, $options, 0)\n",
    "Write-Host \"Был выбран вриант с индексом $input\"\n",
    "\n",
    "$input2   = $host.ui.PromptForChoice(\"Другой заголовок\", \"Обратите вниманиена то, что здесь по умолчанию испльзуется вариант с индексом 1 (no)\", $options, 1)\n",
    "Write-Host \"Был выбран вриант с индексом $input2\""
   ]
  },
  {
   "cell_type": "markdown",
   "metadata": {},
   "source": [
    "## Ссылки\n",
    "\n",
    "* [PSHostUserInterface Class (System.Management.Automation.Host) - Microsoft Docs](https://docs.microsoft.com/en-us/dotnet/api/system.management.automation.host.pshostuserinterface?view=pscore-6.2.0)\n",
    "  * [PSHostUserInterface.PromptForChoice Method (System.Management.Automation.Host) - Microsoft Docs](https://docs.microsoft.com/en-us/dotnet/api/system.management.automation.host.pshostuserinterface.promptforchoice?view=pscore-6.2.0)\n",
    "* [ChoiceDescription Class (System.Management.Automation.Host) - Microsoft Docs](https://docs.microsoft.com/en-us/dotnet/api/system.management.automation.host.choicedescription?view=pscore-6.2.0)"
   ]
  }
 ],
 "metadata": {
  "kernelspec": {
   "display_name": ".NET (PowerShell)",
   "language": "PowerShell",
   "name": ".net-powershell"
  },
  "language_info": {
   "file_extension": ".ps1",
   "mimetype": "text/x-powershell",
   "name": "PowerShell",
   "pygments_lexer": "powershell",
   "version": "7.0"
  }
 },
 "nbformat": 4,
 "nbformat_minor": 4
}
