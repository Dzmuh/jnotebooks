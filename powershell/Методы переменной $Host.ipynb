{
 "cells": [
  {
   "cell_type": "markdown",
   "metadata": {},
   "source": [
    "# Методы переменной $Host\n",
    "\n",
    "Методы объекта `System.Management.Automation.Internal.Host.InternalHost`, содержащегося в автоматической переменной `$Host`.\n",
    "\n",
    "Автоматическая переменная `$host` содержит в себе объект типа `System.Management.Automation.Internal.Host.InternalHost`, представляющий текущее приложение Windows PowerShell.\n",
    "\n",
    "Этот объект обладает некоторыми свойствами, например:\n",
    "\n",
    "* <b>$Host.Name</b> – имя приложения, `ConsoleHost` – для консоли Windows PowerShell, `Windows PowerShell ISE Host` – для ISE\n",
    "\n",
    "* **$Host.Version** – версия Windows PowerShell\n",
    "\n",
    "* **$Host.CurrentCulture** – текущие языковые настройки\n",
    "\n",
    "* **$Host.CurrentUICulture** – языковые параметры интерфейса\n",
    "\n",
    "* **$Host.PrivateData** — набор цветовых настроек, применяемых при отображении различных сообщений, таких как сообщения об ошибках — Error, отладочные сообщения – Debug, или отображение прогресса выполнения какой-либо задачи – Progress.\n",
    "\n",
    "* **$Host.UI.RawUI** – набор настроек окна консоли, таких как цвет консоли и текста, размер и положение окна консоли, а также заголовок окна.\n",
    "\n",
    "Многие из этих свойств можно изменить.\n",
    "\n",
    "Допустим, чтобы изменить заголовок окна консоли Windows PowerShell, нужно задать новое значение свойству `$Host.UI.RawUI.WindowTitle`."
   ]
  },
  {
   "cell_type": "markdown",
   "metadata": {},
   "source": [
    "## $Host.UI.Prompt\n",
    "\n",
    "Этот метод позволяет нам запросить необходимую информацию у пользователя и представляет ее в виде объекта Dictionary: `System.Collections.Generic.Dictionary`."
   ]
  },
  {
   "cell_type": "code",
   "execution_count": 2,
   "metadata": {},
   "outputs": [
    {
     "name": "stdout",
     "output_type": "stream",
     "text": [
      "\n",
      "OverloadDefinitions\n",
      "-------------------\n",
      "System.Collections.Generic.Dictionary[string,psobject] Prompt(string caption, string message,\n",
      "System.Collections.ObjectModel.Collection[System.Management.Automation.Host.FieldDescription]\n",
      "descriptions)\n",
      "\n",
      "\n"
     ]
    }
   ],
   "source": [
    "$Host.UI.Prompt"
   ]
  },
  {
   "cell_type": "markdown",
   "metadata": {},
   "source": [
    "Как мы видим выше, метод требует следующие параметры: \n",
    "\n",
    "* строку заголовка – caption\n",
    "* строку сообщения – message\n",
    "* коллекцию объектов типа `System.Management.Automation.Host.FieldDescription`"
   ]
  },
  {
   "cell_type": "markdown",
   "metadata": {},
   "source": [
    "Давайте создадим объект коллекции и сохраним его в переменной `$FieldDescriptionCollection`.\n",
    "\n",
    "Запросив значение переменной `$FieldDescriptionCollection`, мы видим, что коллекция пока пустая."
   ]
  },
  {
   "cell_type": "code",
   "execution_count": 6,
   "metadata": {},
   "outputs": [
    {
     "name": "stdout",
     "output_type": "stream",
     "text": [
      "\n"
     ]
    }
   ],
   "source": [
    "$FieldDescriptionCollection = New-Object -TypeName System.Collections.ObjectModel.Collection[System.Management.Automation.Host.FieldDescription]\n",
    "Write-Host $FieldDescriptionCollection"
   ]
  },
  {
   "cell_type": "markdown",
   "metadata": {},
   "source": [
    "Воспользовавшись командлетом Get-Member, мы узнаем, какими свойствами и методами обладает объект коллекции."
   ]
  },
  {
   "cell_type": "code",
   "execution_count": 7,
   "metadata": {},
   "outputs": [
    {
     "name": "stdout",
     "output_type": "stream",
     "text": [
      "\n",
      "\n",
      "   TypeName: \n",
      "System.Collections.ObjectModel.Collection`1[[System.Management.Automation.Host.FieldDescription, \n",
      "System.Management.Automation, Version=7.0.0.0, Culture=neutral, PublicKeyToken=31bf3856ad364e35]]\n",
      "\n",
      "Name           MemberType            Definition\n",
      "----           ----------            ----------\n",
      "Add            Method                void Add(System.Management.Automation.Host.FieldDescription i…\n",
      "Clear          Method                void Clear(), void ICollection[FieldDescription].Clear(), voi…\n",
      "Contains       Method                bool Contains(System.Management.Automation.Host.FieldDescript…\n",
      "CopyTo         Method                void CopyTo(System.Management.Automation.Host.FieldDescriptio…\n",
      "Equals         Method                bool Equals(System.Object obj)\n",
      "GetEnumerator  Method                System.Collections.Generic.IEnumerator[System.Management.Auto…\n",
      "GetHashCode    Method                int GetHashCode()\n",
      "GetType        Method                type GetType()\n",
      "IndexOf        Method                int IndexOf(System.Management.Automation.Host.FieldDescriptio…\n",
      "Insert         Method                void Insert(int index, System.Management.Automation.Host.Fiel…\n",
      "Remove         Method                bool Remove(System.Management.Automation.Host.FieldDescriptio…\n",
      "RemoveAt       Method                void RemoveAt(int index), void IList[FieldDescription].Remove…\n",
      "ToString       Method                string ToString()\n",
      "Item           ParameterizedProperty System.Management.Automation.Host.FieldDescription Item(int i…\n",
      "Count          Property              int Count {get;}\n",
      "IsFixedSize    Property              bool IsFixedSize {get;}\n",
      "IsReadOnly     Property              bool IsReadOnly {get;}\n",
      "IsSynchronized Property              bool IsSynchronized {get;}\n",
      "SyncRoot       Property              System.Object SyncRoot {get;}\n",
      "\n"
     ]
    }
   ],
   "source": [
    "Get-Member -InputObject $FieldDescriptionCollection"
   ]
  },
  {
   "cell_type": "code",
   "execution_count": null,
   "metadata": {},
   "outputs": [],
   "source": []
  }
 ],
 "metadata": {
  "kernelspec": {
   "display_name": ".NET (PowerShell)",
   "language": "PowerShell",
   "name": ".net-powershell"
  },
  "language_info": {
   "file_extension": ".ps1",
   "mimetype": "text/x-powershell",
   "name": "PowerShell",
   "pygments_lexer": "powershell",
   "version": "7.0"
  }
 },
 "nbformat": 4,
 "nbformat_minor": 4
}
